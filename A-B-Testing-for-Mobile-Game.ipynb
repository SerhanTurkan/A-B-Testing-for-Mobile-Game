{
 "cells": [
  {
   "cell_type": "markdown",
   "id": "7be99d3b",
   "metadata": {},
   "source": [
    "# <center>MOBILE GAME A/B TESTING</center>\n",
    "## <center>COOKIE CATS</center>\n",
    "**Cookie Cats** is a hugely popular mobile puzzle game developed by Tactile Entertainment. It's a classic \"connect three\"-style puzzle game where the player must connect tiles of the same color to clear the board and win the level.  \n",
    " ![](https://tactilegames.com/wp-content/uploads/2018/05/cookie-cats.png)  \n",
    "As players progress through the levels of the game, they will occasionally encounter gates that force them to wait a non-trivial amount of time or make an in-app purchase to progress. In addition to driving in-app purchases, these gates serve the important purpose of giving players an enforced break from playing the game, hopefully resulting in that the player's enjoyment of the game being increased and prolonged.  \n",
    "### GOAL  \n",
    "Where should the gates be placed?  \n",
    "The first gate was originally located at level 30, but in this notebook, we'll look at an A/B test in which we changed the first gate from level 30 to level 40.  \n",
    "We'll focus on the impact on player retention in particular."
   ]
  },
  {
   "cell_type": "markdown",
   "id": "f467009d",
   "metadata": {},
   "source": [
    "### DATASET  \n",
    "**Context**\n",
    "\n",
    "This dataset includes A/B test results of Cookie Cats to examine what happens when the first gate in the game was moved from level 30 to level 40.  \n",
    "When a player installed the game, he or she was randomly assigned to either gate30 or gate40.  \n",
    "\n",
    "**Content**  \n",
    "\n",
    "The data we have is from 90,189 players that installed the game while the AB-test was running.  \n",
    "The variables are:  \n",
    "\n",
    "**userid:** A unique number that identifies each player.  \n",
    "**version:** Whether the player was put in the control group (gate30 - a gate at level 30) or the group with the moved gate (gate40 - a gate at level 40).  \n",
    "**sum_gamerounds:** the number of game rounds played by the player during the first 14 days after install.  \n",
    "**retention_1:** Did the player come back and play 1 day after installing?  \n",
    "**retention_7:** Did the player come back and play 7 days after installing?  "
   ]
  },
  {
   "cell_type": "code",
   "execution_count": 1,
   "id": "5a464518",
   "metadata": {},
   "outputs": [],
   "source": [
    "# Import libraries\n",
    "\n",
    "import numpy as np\n",
    "import pandas as pd\n",
    "import seaborn as sns\n",
    "import matplotlib.pyplot as plt\n",
    "\n",
    "import statsmodels.api as sm\n",
    "from scipy.stats import shapiro\n",
    "from scipy.stats import chisquare\n",
    "from scipy.stats import mannwhitneyu\n",
    "from scipy.stats import chi2_contingency\n",
    "\n",
    "import warnings\n",
    "warnings.filterwarnings(\"ignore\")\n",
    "\n",
    "pd.options.mode.chained_assignment = None"
   ]
  },
  {
   "cell_type": "code",
   "execution_count": 2,
   "id": "6e95778d",
   "metadata": {},
   "outputs": [
    {
     "data": {
      "text/html": [
       "<div>\n",
       "<style scoped>\n",
       "    .dataframe tbody tr th:only-of-type {\n",
       "        vertical-align: middle;\n",
       "    }\n",
       "\n",
       "    .dataframe tbody tr th {\n",
       "        vertical-align: top;\n",
       "    }\n",
       "\n",
       "    .dataframe thead th {\n",
       "        text-align: right;\n",
       "    }\n",
       "</style>\n",
       "<table border=\"1\" class=\"dataframe\">\n",
       "  <thead>\n",
       "    <tr style=\"text-align: right;\">\n",
       "      <th></th>\n",
       "      <th>userid</th>\n",
       "      <th>version</th>\n",
       "      <th>sum_gamerounds</th>\n",
       "      <th>retention_1</th>\n",
       "      <th>retention_7</th>\n",
       "    </tr>\n",
       "  </thead>\n",
       "  <tbody>\n",
       "    <tr>\n",
       "      <th>0</th>\n",
       "      <td>116</td>\n",
       "      <td>gate_30</td>\n",
       "      <td>3</td>\n",
       "      <td>False</td>\n",
       "      <td>False</td>\n",
       "    </tr>\n",
       "    <tr>\n",
       "      <th>1</th>\n",
       "      <td>337</td>\n",
       "      <td>gate_30</td>\n",
       "      <td>38</td>\n",
       "      <td>True</td>\n",
       "      <td>False</td>\n",
       "    </tr>\n",
       "    <tr>\n",
       "      <th>2</th>\n",
       "      <td>377</td>\n",
       "      <td>gate_40</td>\n",
       "      <td>165</td>\n",
       "      <td>True</td>\n",
       "      <td>False</td>\n",
       "    </tr>\n",
       "    <tr>\n",
       "      <th>3</th>\n",
       "      <td>483</td>\n",
       "      <td>gate_40</td>\n",
       "      <td>1</td>\n",
       "      <td>False</td>\n",
       "      <td>False</td>\n",
       "    </tr>\n",
       "    <tr>\n",
       "      <th>4</th>\n",
       "      <td>488</td>\n",
       "      <td>gate_40</td>\n",
       "      <td>179</td>\n",
       "      <td>True</td>\n",
       "      <td>True</td>\n",
       "    </tr>\n",
       "    <tr>\n",
       "      <th>...</th>\n",
       "      <td>...</td>\n",
       "      <td>...</td>\n",
       "      <td>...</td>\n",
       "      <td>...</td>\n",
       "      <td>...</td>\n",
       "    </tr>\n",
       "    <tr>\n",
       "      <th>90184</th>\n",
       "      <td>9999441</td>\n",
       "      <td>gate_40</td>\n",
       "      <td>97</td>\n",
       "      <td>True</td>\n",
       "      <td>False</td>\n",
       "    </tr>\n",
       "    <tr>\n",
       "      <th>90185</th>\n",
       "      <td>9999479</td>\n",
       "      <td>gate_40</td>\n",
       "      <td>30</td>\n",
       "      <td>False</td>\n",
       "      <td>False</td>\n",
       "    </tr>\n",
       "    <tr>\n",
       "      <th>90186</th>\n",
       "      <td>9999710</td>\n",
       "      <td>gate_30</td>\n",
       "      <td>28</td>\n",
       "      <td>True</td>\n",
       "      <td>False</td>\n",
       "    </tr>\n",
       "    <tr>\n",
       "      <th>90187</th>\n",
       "      <td>9999768</td>\n",
       "      <td>gate_40</td>\n",
       "      <td>51</td>\n",
       "      <td>True</td>\n",
       "      <td>False</td>\n",
       "    </tr>\n",
       "    <tr>\n",
       "      <th>90188</th>\n",
       "      <td>9999861</td>\n",
       "      <td>gate_40</td>\n",
       "      <td>16</td>\n",
       "      <td>False</td>\n",
       "      <td>False</td>\n",
       "    </tr>\n",
       "  </tbody>\n",
       "</table>\n",
       "<p>90189 rows × 5 columns</p>\n",
       "</div>"
      ],
      "text/plain": [
       "        userid  version  sum_gamerounds  retention_1  retention_7\n",
       "0          116  gate_30               3        False        False\n",
       "1          337  gate_30              38         True        False\n",
       "2          377  gate_40             165         True        False\n",
       "3          483  gate_40               1        False        False\n",
       "4          488  gate_40             179         True         True\n",
       "...        ...      ...             ...          ...          ...\n",
       "90184  9999441  gate_40              97         True        False\n",
       "90185  9999479  gate_40              30        False        False\n",
       "90186  9999710  gate_30              28         True        False\n",
       "90187  9999768  gate_40              51         True        False\n",
       "90188  9999861  gate_40              16        False        False\n",
       "\n",
       "[90189 rows x 5 columns]"
      ]
     },
     "execution_count": 2,
     "metadata": {},
     "output_type": "execute_result"
    }
   ],
   "source": [
    "# Load the data set\n",
    "\n",
    "df = pd.read_csv(\"cookie_cats.csv\")\n",
    "df"
   ]
  },
  {
   "cell_type": "code",
   "execution_count": 3,
   "id": "bac0a8a1",
   "metadata": {},
   "outputs": [
    {
     "name": "stdout",
     "output_type": "stream",
     "text": [
      "<class 'pandas.core.frame.DataFrame'>\n",
      "RangeIndex: 90189 entries, 0 to 90188\n",
      "Data columns (total 5 columns):\n",
      " #   Column          Non-Null Count  Dtype \n",
      "---  ------          --------------  ----- \n",
      " 0   userid          90189 non-null  int64 \n",
      " 1   version         90189 non-null  object\n",
      " 2   sum_gamerounds  90189 non-null  int64 \n",
      " 3   retention_1     90189 non-null  bool  \n",
      " 4   retention_7     90189 non-null  bool  \n",
      "dtypes: bool(2), int64(2), object(1)\n",
      "memory usage: 2.2+ MB\n"
     ]
    }
   ],
   "source": [
    "# Information about a DataFrame including the index dtype and columns, non-null values and memory usage.\n",
    "\n",
    "df.info()"
   ]
  },
  {
   "cell_type": "code",
   "execution_count": 4,
   "id": "9bfb4c84",
   "metadata": {},
   "outputs": [
    {
     "data": {
      "text/plain": [
       "False"
      ]
     },
     "execution_count": 4,
     "metadata": {},
     "output_type": "execute_result"
    }
   ],
   "source": [
    "# Check for duplicate userid\n",
    "\n",
    "df.duplicated(subset=[\"userid\"]).any()"
   ]
  },
  {
   "cell_type": "markdown",
   "id": "f928df88",
   "metadata": {},
   "source": [
    "- **90189 rows of data** \n",
    "- **No null value** \n",
    "- **No duplicate userid**"
   ]
  },
  {
   "cell_type": "code",
   "execution_count": 5,
   "id": "4848abd0",
   "metadata": {},
   "outputs": [
    {
     "data": {
      "text/html": [
       "<div>\n",
       "<style scoped>\n",
       "    .dataframe tbody tr th:only-of-type {\n",
       "        vertical-align: middle;\n",
       "    }\n",
       "\n",
       "    .dataframe tbody tr th {\n",
       "        vertical-align: top;\n",
       "    }\n",
       "\n",
       "    .dataframe thead th {\n",
       "        text-align: right;\n",
       "    }\n",
       "</style>\n",
       "<table border=\"1\" class=\"dataframe\">\n",
       "  <thead>\n",
       "    <tr style=\"text-align: right;\">\n",
       "      <th></th>\n",
       "      <th>group</th>\n",
       "      <th>sum_gamerounds</th>\n",
       "      <th>retention_1</th>\n",
       "      <th>retention_7</th>\n",
       "    </tr>\n",
       "  </thead>\n",
       "  <tbody>\n",
       "    <tr>\n",
       "      <th>0</th>\n",
       "      <td>A</td>\n",
       "      <td>3</td>\n",
       "      <td>False</td>\n",
       "      <td>False</td>\n",
       "    </tr>\n",
       "    <tr>\n",
       "      <th>1</th>\n",
       "      <td>A</td>\n",
       "      <td>38</td>\n",
       "      <td>True</td>\n",
       "      <td>False</td>\n",
       "    </tr>\n",
       "    <tr>\n",
       "      <th>2</th>\n",
       "      <td>B</td>\n",
       "      <td>165</td>\n",
       "      <td>True</td>\n",
       "      <td>False</td>\n",
       "    </tr>\n",
       "    <tr>\n",
       "      <th>3</th>\n",
       "      <td>B</td>\n",
       "      <td>1</td>\n",
       "      <td>False</td>\n",
       "      <td>False</td>\n",
       "    </tr>\n",
       "    <tr>\n",
       "      <th>4</th>\n",
       "      <td>B</td>\n",
       "      <td>179</td>\n",
       "      <td>True</td>\n",
       "      <td>True</td>\n",
       "    </tr>\n",
       "  </tbody>\n",
       "</table>\n",
       "</div>"
      ],
      "text/plain": [
       "  group  sum_gamerounds  retention_1  retention_7\n",
       "0     A               3        False        False\n",
       "1     A              38         True        False\n",
       "2     B             165         True        False\n",
       "3     B               1        False        False\n",
       "4     B             179         True         True"
      ]
     },
     "execution_count": 5,
     "metadata": {},
     "output_type": "execute_result"
    }
   ],
   "source": [
    "# Drop userid column as it is meaningless for this study\n",
    "\n",
    "df.drop(columns=[\"userid\"], inplace=True)\n",
    "\n",
    "# Edit the version column\n",
    "df.rename(columns={\"version\": \"group\"},inplace=True)\n",
    "df[\"group\"] = np.where(df.group == \"gate_30\", \"A\", \"B\")\n",
    "df.loc[:,\"group\"]=df.group.astype(\"category\")\n",
    "\n",
    "# looks more organized now\n",
    "df.head()"
   ]
  },
  {
   "cell_type": "code",
   "execution_count": 6,
   "id": "74f8abbe",
   "metadata": {},
   "outputs": [
    {
     "data": {
      "image/png": "[encoded data removed]",
      "text/plain": [
       "<Figure size 1296x216 with 1 Axes>"
      ]
     },
     "metadata": {},
     "output_type": "display_data"
    }
   ],
   "source": [
    "# Total number of games distribution in log-scale\n",
    "\n",
    "sns.set(rc={'figure.figsize':(18,3)})\n",
    "ax=sns.boxplot(y = df.group, x = df.sum_gamerounds, orient=\"h\")\n",
    "ax.set_xscale('log')\n",
    "plt.title(\"Total Gamerounds by Group\", fontweight=\"bold\")\n",
    "plt.xlabel(\"Total Gamerounds in Logarithmic Scale\")\n",
    "plt.ylabel(\"Group\")\n",
    "plt.show()"
   ]
  },
  {
   "cell_type": "code",
   "execution_count": 7,
   "id": "48e463b4",
   "metadata": {},
   "outputs": [
    {
     "data": {
      "text/plain": [
       "57702    49854\n",
       "7912      2961\n",
       "29417     2640\n",
       "43671     2438\n",
       "48188     2294\n",
       "Name: sum_gamerounds, dtype: int64"
      ]
     },
     "execution_count": 7,
     "metadata": {},
     "output_type": "execute_result"
    }
   ],
   "source": [
    "# Observe the outliers\n",
    "\n",
    "df.sum_gamerounds.sort_values(ascending = False).head()"
   ]
  },
  {
   "cell_type": "markdown",
   "id": "a2b48bbb",
   "metadata": {},
   "source": [
    "- **There is one outlier that is obvious (49,854 gamerounds)** "
   ]
  },
  {
   "cell_type": "code",
   "execution_count": 8,
   "id": "d9c8dfe8",
   "metadata": {},
   "outputs": [],
   "source": [
    "# Delete outlier\n",
    "\n",
    "df= df[df[\"sum_gamerounds\"] < 3000].reset_index()"
   ]
  },
  {
   "cell_type": "code",
   "execution_count": 9,
   "id": "590d4a4e",
   "metadata": {},
   "outputs": [
    {
     "data": {
      "text/plain": [
       "1    5538\n",
       "2    4606\n",
       "0    3994\n",
       "3    3958\n",
       "4    3629\n",
       "Name: sum_gamerounds, dtype: int64"
      ]
     },
     "execution_count": 9,
     "metadata": {},
     "output_type": "execute_result"
    }
   ],
   "source": [
    "# Check sum_gamerounds\n",
    "\n",
    "df.sum_gamerounds.value_counts().head()"
   ]
  },
  {
   "cell_type": "markdown",
   "id": "f479ece5",
   "metadata": {},
   "source": [
    "- **3994 people have installed the game but never played it.  Possible reasons:**  \n",
    "    - Game crashes or closes unexpectedly  \n",
    "    - They have not started playing the game yet  \n",
    "    - They downloaded a number of new games at the same time and were attracted by other games  \n",
    "    - They launched the app but did not enjoy the design/interface/music, therefore they exited before playing the game"
   ]
  },
  {
   "cell_type": "code",
   "execution_count": 10,
   "id": "3bac72e8",
   "metadata": {},
   "outputs": [],
   "source": [
    "# Those who never played games probably had no effect on the experiment\n",
    "# Delete them as it will corrupt the statistics of the data\n",
    "\n",
    "df=df[df.sum_gamerounds != 0].reset_index()"
   ]
  },
  {
   "cell_type": "code",
   "execution_count": 11,
   "id": "8f3ed274",
   "metadata": {},
   "outputs": [
    {
     "data": {
      "text/plain": [
       "count    86194.000000\n",
       "mean        53.698297\n",
       "std        104.425174\n",
       "min          1.000000\n",
       "50%         18.000000\n",
       "95%        227.000000\n",
       "99%        499.000000\n",
       "max       2961.000000\n",
       "Name: sum_gamerounds, dtype: float64"
      ]
     },
     "execution_count": 11,
     "metadata": {},
     "output_type": "execute_result"
    }
   ],
   "source": [
    "# Describe the dataset\n",
    "\n",
    "df[\"sum_gamerounds\"].describe([0.95,0.99])"
   ]
  },
  {
   "cell_type": "markdown",
   "id": "773ea206",
   "metadata": {},
   "source": [
    "- **Half of the users have played the game 18 times or less**"
   ]
  },
  {
   "cell_type": "code",
   "execution_count": 12,
   "id": "e6a5ca4f",
   "metadata": {},
   "outputs": [
    {
     "data": {
      "image/png": "[encoded data removed]",
      "text/plain": [
       "<Figure size 1296x720 with 1 Axes>"
      ]
     },
     "metadata": {},
     "output_type": "display_data"
    }
   ],
   "source": [
    "# 95% of players have played 227 times or less. Draw them\n",
    "\n",
    "sns.set(rc={'figure.figsize':(18,10)})\n",
    "sns.histplot(data=df[df.sum_gamerounds<228], x=\"sum_gamerounds\", kde=True,hue=\"group\",line_kws={\"lw\":3},bins=100)\n",
    "plt.title(\"The Distribution of Players\", fontweight=\"bold\")\n",
    "plt.xlabel(\"Total Gamerounds\")\n",
    "plt.ylabel(\"Number of Player\")\n",
    "plt.show()"
   ]
  },
  {
   "cell_type": "markdown",
   "id": "f39d7fcd",
   "metadata": {},
   "source": [
    "- **As the levels progress, the number of users decreases.   Possible reasons:**    \n",
    "    -Levels become boring and repetitive as they progress, possibly due to a lack of new mechanics or variation  \n",
    "    -After a certain point in the game, the level difficulty increases exponentially, to the point where the game becomes unplayable without an in-app purchase"
   ]
  },
  {
   "cell_type": "markdown",
   "id": "865c1390",
   "metadata": {},
   "source": [
    "**Sample Ratio Mismatch**  \n",
    "\n",
    "\n",
    "SRM is defined as the mismatch between expected sample ratio and observed sample ratio.  \n",
    "For example in an A/B test with a 50/50 split, we expect the ratio between control and test sample groups to be 1.  \n",
    "If we end up observing a 40/60 split, we are far from the expected ratio of 1 and we have SRM. \n",
    "\n",
    "<img src=\"https://1xeqto1j2jdz1tjsywaminn1-wpengine.netdna-ssl.com/wp-content/uploads/2021/01/image2-1.png\" width=\"400\"/>\n",
    "\n",
    "*For more information:*  \n",
    "\n",
    "[Diagnosing Sample Ratio Mismatch in A/B Testing](https://www.microsoft.com/en-us/research/group/experimentation-platform-exp/articles/diagnosing-sample-ratio-mismatch-in-a-b-testing/)  \n",
    "[The essential guide to Sample Ratio Mismatch for your A/B tests](https://towardsdatascience.com/the-essential-guide-to-sample-ratio-mismatch-for-your-a-b-tests-96a4db81d7a4)  "
   ]
  },
  {
   "cell_type": "code",
   "execution_count": 13,
   "id": "361f9d2e",
   "metadata": {},
   "outputs": [],
   "source": [
    "# Function to check Sample Ratio Mismatch\n",
    "\n",
    "def SRMcheck(df):\n",
    "    num_A = df[\"group\"].value_counts().loc[\"A\"]\n",
    "    num_B = df[\"group\"].value_counts().loc[\"B\"]\n",
    "\n",
    "    print(\"Number of players in group A (gate_30):\",num_A)\n",
    "    print(\"Number of players in group B (gate_40):\",num_B)\n",
    "    print(\"A/B ratio: {:.5f}\".format(num_A/num_B))\n",
    "    print(\"-\"*45)\n",
    "    \n",
    "    observed = [ num_A, num_B ]\n",
    "    total_player= sum(observed)\n",
    "    expected = [ total_player/2, total_player/2 ]\n",
    "\n",
    "    chi = chisquare(observed, f_exp=expected)\n",
    "    print(\"pvalue: {:.3f}\".format(chi[1]))\n",
    "    print(\"*\"*15)\n",
    "    if chi[1] < 0.01:\n",
    "        print('SRM may be present.')\n",
    "    else:\n",
    "        print('Probably no SRM.')"
   ]
  },
  {
   "cell_type": "code",
   "execution_count": 14,
   "id": "90cc1038",
   "metadata": {},
   "outputs": [
    {
     "name": "stdout",
     "output_type": "stream",
     "text": [
      "Number of players in group A (gate_30): 42762\n",
      "Number of players in group B (gate_40): 43432\n",
      "A/B ratio: 0.98457\n",
      "---------------------------------------------\n",
      "pvalue: 0.022\n",
      "***************\n",
      "Probably no SRM.\n"
     ]
    }
   ],
   "source": [
    "# Check SRM\n",
    "\n",
    "SRMcheck(df)"
   ]
  },
  {
   "cell_type": "markdown",
   "id": "2c3188d3",
   "metadata": {},
   "source": [
    "### A/B TESTING for Game Rounds"
   ]
  },
  {
   "cell_type": "code",
   "execution_count": 15,
   "id": "098290d7",
   "metadata": {},
   "outputs": [
    {
     "data": {
      "text/html": [
       "<div>\n",
       "<style scoped>\n",
       "    .dataframe tbody tr th:only-of-type {\n",
       "        vertical-align: middle;\n",
       "    }\n",
       "\n",
       "    .dataframe tbody tr th {\n",
       "        vertical-align: top;\n",
       "    }\n",
       "\n",
       "    .dataframe thead th {\n",
       "        text-align: right;\n",
       "    }\n",
       "</style>\n",
       "<table border=\"1\" class=\"dataframe\">\n",
       "  <thead>\n",
       "    <tr style=\"text-align: right;\">\n",
       "      <th></th>\n",
       "      <th>sum</th>\n",
       "      <th>mean</th>\n",
       "      <th>median</th>\n",
       "    </tr>\n",
       "    <tr>\n",
       "      <th>group</th>\n",
       "      <th></th>\n",
       "      <th></th>\n",
       "      <th></th>\n",
       "    </tr>\n",
       "  </thead>\n",
       "  <tbody>\n",
       "    <tr>\n",
       "      <th>A</th>\n",
       "      <td>2294941</td>\n",
       "      <td>53.667766</td>\n",
       "      <td>18.0</td>\n",
       "    </tr>\n",
       "    <tr>\n",
       "      <th>B</th>\n",
       "      <td>2333530</td>\n",
       "      <td>53.728357</td>\n",
       "      <td>18.0</td>\n",
       "    </tr>\n",
       "  </tbody>\n",
       "</table>\n",
       "</div>"
      ],
      "text/plain": [
       "           sum       mean  median\n",
       "group                            \n",
       "A      2294941  53.667766    18.0\n",
       "B      2333530  53.728357    18.0"
      ]
     },
     "execution_count": 15,
     "metadata": {},
     "output_type": "execute_result"
    }
   ],
   "source": [
    "# Describe sum_gamerounds\n",
    "\n",
    "df.groupby(\"group\").sum_gamerounds.agg([\"sum\",\"mean\",\"median\"])"
   ]
  },
  {
   "cell_type": "markdown",
   "id": "7f0d6056",
   "metadata": {},
   "source": [
    "- **The medians of both groups are the same**  \n",
    "- **The total number of games and means are slightly higher for group B**"
   ]
  },
  {
   "cell_type": "code",
   "execution_count": 16,
   "id": "360b00c7",
   "metadata": {},
   "outputs": [
    {
     "name": "stdout",
     "output_type": "stream",
     "text": [
      "Group B played a total of 1.68% more games than group A\n"
     ]
    }
   ],
   "source": [
    "# Check gamerounds difference\n",
    "\n",
    "sum_difference= round(100*(df.query(\"group=='B'\").sum_gamerounds.sum() - df.query(\"group=='A'\").sum_gamerounds.sum()) \n",
    "      / df.query(\"group=='A'\").sum_gamerounds.sum(), 2)\n",
    "print(\"Group B played a total of {}% more games than group A\".format(sum_difference))"
   ]
  },
  {
   "cell_type": "markdown",
   "id": "4b044f9b",
   "metadata": {},
   "source": [
    "**Data Distribution** \n",
    "\n",
    "All statistical tests can be divided into two main groups: **parametric** and **non-parametric**  \n",
    " \n",
    "- **Parametric tests** are used only when a normal (or close to normal) distribution is assumed. The most commonly used tests are **Z-test**, **T-test**, and **ANOVA**  \n",
    "- **Non-parametric tests** are used when continuous data is not normally distributed or when data is discrete. The most commonly used tests are **chi-squared**, **Fisher’s exact tests** and **Mann–Whitney U-test**"
   ]
  },
  {
   "cell_type": "code",
   "execution_count": 17,
   "id": "97b6e00b",
   "metadata": {},
   "outputs": [],
   "source": [
    "# Function to check normality (Q-Q plot and Shapiro–Wilk test)\n",
    "\n",
    "def checkNormality(df):\n",
    "    sns.set(rc={'figure.figsize':(5,5)})\n",
    "    sm.qqplot(df, line='45', fit=True)\n",
    "    plt.show()\n",
    "\n",
    "    _ , p= shapiro(df)\n",
    "    alpha = 0.05\n",
    "    print(f\"p={p}\")\n",
    "    if p > alpha:\n",
    "        print('Sample a normal distribution')\n",
    "    else:\n",
    "        print('Sample is not a normal distribution')"
   ]
  },
  {
   "cell_type": "code",
   "execution_count": 18,
   "id": "1e870327",
   "metadata": {},
   "outputs": [
    {
     "data": {
      "image/png": "[encoded data removed]",
      "text/plain": [
       "<Figure size 360x360 with 1 Axes>"
      ]
     },
     "metadata": {},
     "output_type": "display_data"
    },
    {
     "name": "stdout",
     "output_type": "stream",
     "text": [
      "p=0.0\n",
      "Sample is not a normal distribution\n"
     ]
    }
   ],
   "source": [
    "# Check normality for sum_gamerounds\n",
    "\n",
    "checkNormality(df.sum_gamerounds)"
   ]
  },
  {
   "cell_type": "markdown",
   "id": "f144c257",
   "metadata": {},
   "source": [
    "- **Non-Parametric Test should be used since the sample is not normally distributed**"
   ]
  },
  {
   "cell_type": "markdown",
   "id": "6d574bea",
   "metadata": {},
   "source": [
    "**Bootstrapping**  \n",
    "\n",
    "Bootstrapping is any test or metric that uses random sampling with replacement (e.g. mimicking the sampling process), and falls under the broader class of resampling methods.Let's find these numbers by bootstrapping to get a precise data.  \n",
    "*For more information:* [Bootstrapping](https://en.wikipedia.org/wiki/Bootstrapping_(statistics))"
   ]
  },
  {
   "cell_type": "code",
   "execution_count": 19,
   "id": "c266d3c3",
   "metadata": {},
   "outputs": [
    {
     "data": {
      "image/png": "[encoded data removed]",
      "text/plain": [
       "<Figure size 360x360 with 1 Axes>"
      ]
     },
     "metadata": {},
     "output_type": "display_data"
    }
   ],
   "source": [
    "# Bootstraping - Create 2000 samples of dataset\n",
    "\n",
    "bootstrap_sum=pd.DataFrame([df.sample(frac=1, replace=True).groupby('group')['sum_gamerounds'].mean() for i in range(2000)])\n",
    "\n",
    "bootstrap_sum.plot.kde()\n",
    "sns.set(rc={'figure.figsize':(18,5)})\n",
    "plt.title(\"KDE Plot of the Gamerounds' bootstrap distributions\", fontweight=\"bold\")\n",
    "plt.xlabel(\"Game rounds\")\n",
    "plt.show()"
   ]
  },
  {
   "cell_type": "markdown",
   "id": "abbb79aa",
   "metadata": {},
   "source": [
    "**H0 (Null hypothesis)       :** Changing the gate level has no impact on sum_gamerounds  \n",
    "**H1 (Alternative hypothesis):** Changing the gate level has an impact on sum_gamerounds"
   ]
  },
  {
   "cell_type": "code",
   "execution_count": 20,
   "id": "14d5cf80",
   "metadata": {},
   "outputs": [],
   "source": [
    "# Function for Mann-Whitney U Test\n",
    "\n",
    "def mannwhitneyfunc(value1,value2):\n",
    "\n",
    "    stat, p=mannwhitneyu(sum_gamerounds1, sum_gamerounds2)\n",
    "\n",
    "    alpha=0.05 \n",
    "\n",
    "    print('p=%.4f , alpha=%.2f '%(p,alpha))\n",
    "    if p > alpha:\n",
    "        print('Two groups have no significant difference')\n",
    "    else:\n",
    "        print('Two groups have a significant difference')"
   ]
  },
  {
   "cell_type": "code",
   "execution_count": 21,
   "id": "f540d772",
   "metadata": {},
   "outputs": [
    {
     "name": "stdout",
     "output_type": "stream",
     "text": [
      "p=0.1177 , alpha=0.05 \n",
      "Two groups have no significant difference\n"
     ]
    }
   ],
   "source": [
    "#Mann-Whitney U Test for sum_gamerounds\n",
    "\n",
    "sum_gamerounds1 = df[df.group=='A'].sum_gamerounds\n",
    "sum_gamerounds2 = df[df.group=='B'].sum_gamerounds\n",
    "\n",
    "mannwhitneyfunc(sum_gamerounds1,sum_gamerounds2)"
   ]
  },
  {
   "cell_type": "markdown",
   "id": "08ab8934",
   "metadata": {},
   "source": [
    "- **No statistically significant difference between groups. They have similar sum_gamerounds.**"
   ]
  },
  {
   "cell_type": "markdown",
   "id": "32adafd2",
   "metadata": {},
   "source": [
    "### A/B TESTING for Retention Rates"
   ]
  },
  {
   "cell_type": "markdown",
   "id": "f1caf78f",
   "metadata": {},
   "source": [
    "**H0 (Null hypothesis)       :** Changing the gate level has no impact on retention rate  \n",
    "**H1 (Alternative hypothesis):** Changing the gate level has an impact on retention rate"
   ]
  },
  {
   "cell_type": "code",
   "execution_count": 22,
   "id": "2071c3a8",
   "metadata": {},
   "outputs": [
    {
     "data": {
      "text/html": [
       "<div>\n",
       "<style scoped>\n",
       "    .dataframe tbody tr th:only-of-type {\n",
       "        vertical-align: middle;\n",
       "    }\n",
       "\n",
       "    .dataframe tbody tr th {\n",
       "        vertical-align: top;\n",
       "    }\n",
       "\n",
       "    .dataframe thead th {\n",
       "        text-align: right;\n",
       "    }\n",
       "</style>\n",
       "<table border=\"1\" class=\"dataframe\">\n",
       "  <thead>\n",
       "    <tr style=\"text-align: right;\">\n",
       "      <th></th>\n",
       "      <th>retention_1</th>\n",
       "      <th>retention_7</th>\n",
       "    </tr>\n",
       "    <tr>\n",
       "      <th>group</th>\n",
       "      <th></th>\n",
       "      <th></th>\n",
       "    </tr>\n",
       "  </thead>\n",
       "  <tbody>\n",
       "    <tr>\n",
       "      <th>A</th>\n",
       "      <td>0.467541</td>\n",
       "      <td>0.198424</td>\n",
       "    </tr>\n",
       "    <tr>\n",
       "      <th>B</th>\n",
       "      <td>0.462171</td>\n",
       "      <td>0.190321</td>\n",
       "    </tr>\n",
       "  </tbody>\n",
       "</table>\n",
       "</div>"
      ],
      "text/plain": [
       "       retention_1  retention_7\n",
       "group                          \n",
       "A         0.467541     0.198424\n",
       "B         0.462171     0.190321"
      ]
     },
     "execution_count": 22,
     "metadata": {},
     "output_type": "execute_result"
    }
   ],
   "source": [
    "# Retention rate by groups\n",
    "\n",
    "retention_rate = df.groupby(\"group\").agg({\"retention_1\":\"mean\",\"retention_7\":\"mean\"})\n",
    "retention_rate"
   ]
  },
  {
   "cell_type": "markdown",
   "id": "07e161e4",
   "metadata": {},
   "source": [
    "- **Both retention_1 and retention_7 are slightly higher for group A**"
   ]
  },
  {
   "cell_type": "code",
   "execution_count": 23,
   "id": "d5bf1424",
   "metadata": {},
   "outputs": [
    {
     "data": {
      "image/png": "[encoded data removed]",
      "text/plain": [
       "<Figure size 1296x360 with 1 Axes>"
      ]
     },
     "metadata": {},
     "output_type": "display_data"
    }
   ],
   "source": [
    "# Bootstraping - Create 2000 samples of dataset for retention_1 \n",
    "\n",
    "bootstrap_retention1=pd.DataFrame([df.sample(frac=1, replace=True).groupby('group')['retention_1'].mean() for i in range(2000)])\n",
    "\n",
    "bootstrap_retention1.plot.kde()\n",
    "sns.set(rc={'figure.figsize':(18,5)})\n",
    "plt.title(\"KDE Plot of the 1 day retention's bootstrap distributions\", fontweight=\"bold\")\n",
    "plt.xlabel(\"Retention rate\")\n",
    "plt.show()"
   ]
  },
  {
   "cell_type": "code",
   "execution_count": 24,
   "id": "0b7d684e",
   "metadata": {},
   "outputs": [
    {
     "data": {
      "image/png": "[encoded data removed]",
      "text/plain": [
       "<Figure size 1296x360 with 1 Axes>"
      ]
     },
     "metadata": {},
     "output_type": "display_data"
    }
   ],
   "source": [
    "# Bootstraping - Create 2000 samples of dataset for retention_7\n",
    "\n",
    "bootstrap_retention7=pd.DataFrame([df.sample(frac=1, replace=True).groupby('group')['retention_7'].mean() for i in range(2000)])\n",
    "\n",
    "bootstrap_retention7.plot.kde()\n",
    "sns.set(rc={'figure.figsize':(18,5)})\n",
    "plt.title(\"KDE Plot of the 7 day retention's bootstrap distributions\", fontweight=\"bold\")\n",
    "plt.xlabel(\"Retention rate\")\n",
    "plt.show()"
   ]
  },
  {
   "cell_type": "code",
   "execution_count": 25,
   "id": "0a18e4c7",
   "metadata": {},
   "outputs": [],
   "source": [
    "# Function for Chi-square test of independence of variables in a contingency table\n",
    "\n",
    "def chi2test(data):\n",
    "    _, p, _, _ = chi2_contingency(data)\n",
    "    alpha = 0.05\n",
    "\n",
    "    print('p=%.4f , alpha=%.2f '%(p,alpha))\n",
    "    if p > alpha:\n",
    "        print('Two groups have no significant difference')\n",
    "    else:\n",
    "        print('Two groups have a significant difference')"
   ]
  },
  {
   "cell_type": "code",
   "execution_count": 26,
   "id": "609b96e4",
   "metadata": {},
   "outputs": [
    {
     "name": "stdout",
     "output_type": "stream",
     "text": [
      "p=0.1155 , alpha=0.05 \n",
      "Two groups have no significant difference\n"
     ]
    }
   ],
   "source": [
    "#Chi-square test for retention_1 \n",
    "\n",
    "cross1 = pd.crosstab(df[\"group\"], df[\"retention_1\"])\n",
    "chi2test(cross1)"
   ]
  },
  {
   "cell_type": "code",
   "execution_count": 27,
   "id": "72b34ca5",
   "metadata": {},
   "outputs": [
    {
     "name": "stdout",
     "output_type": "stream",
     "text": [
      "p=0.0027 , alpha=0.05 \n",
      "Two groups have a significant difference\n"
     ]
    }
   ],
   "source": [
    "#Chi-square test for retention_7\n",
    "\n",
    "cross7 = pd.crosstab(df[\"group\"], df[\"retention_7\"])\n",
    "chi2test(cross7)"
   ]
  },
  {
   "cell_type": "markdown",
   "id": "fe899962",
   "metadata": {},
   "source": [
    "### Conclusion\n",
    "\n",
    "- We discovered that the total number of game rounds in group B is slightly higher than the number of game rounds in group A. \n",
    "But the Mann-Whitney U Test shows that there is no statistically significant difference between the groups. So, we can say that **changing the gate of the game from level 30 to level 40 has no effect on the game rounds played by the users.**\n",
    "\n",
    "- We observed that retention rates were slightly higher in group A. According to the chi-square test, the 1-day user retention rates are not statistically different, but the 7-day user retention rate is higher in Group A. So, we can say that **changing the gate of the game from level 30 to level 40 has negative effect on the 7-day user retention rate.**  \n",
    "\n",
    "Possible reason why the retention is higher when the door is positioned earlier: [Hedonic treadmill](https://en.wikipedia.org/wiki/Hedonic_treadmill)  \n",
    "- In a nutshell, hedonic treadmill refers to people's tendency to get less and less enjoyment from a fun activity over time if they do it repeatedly. Players' enjoyment of the game is extended by forcing them to take a break when they reach a gate. When the gate is raised to level 40, however, fewer players make it that far, and they are more likely to stop playing the game due to boredom.\n",
    "\n",
    "\n",
    "### <center>It is better to keep the door at level 30</center>"
   ]
  }
 ],
 "metadata": {
  "kernelspec": {
   "display_name": "Python 3 (ipykernel)",
   "language": "python",
   "name": "python3"
  },
  "language_info": {
   "codemirror_mode": {
    "name": "ipython",
    "version": 3
   },
   "file_extension": ".py",
   "mimetype": "text/x-python",
   "name": "python",
   "nbconvert_exporter": "python",
   "pygments_lexer": "ipython3",
   "version": "3.10.1"
  }
 },
 "nbformat": 4,
 "nbformat_minor": 5
}
